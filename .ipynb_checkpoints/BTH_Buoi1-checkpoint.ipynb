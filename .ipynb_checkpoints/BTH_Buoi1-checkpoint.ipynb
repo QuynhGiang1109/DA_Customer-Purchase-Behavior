{
 "cells": [
  {
   "cell_type": "markdown",
   "id": "ba8b0388-97d1-409f-9a1c-647bf973bd0c",
   "metadata": {},
   "source": [
    "Bai 1"
   ]
  },
  {
   "cell_type": "code",
   "execution_count": 7,
   "id": "49d1cfa7-dd3f-44d2-97dd-324604fc1c17",
   "metadata": {},
   "outputs": [
    {
     "name": "stdin",
     "output_type": "stream",
     "text": [
      "Nhap so thu nhat:  1\n",
      "Nhap so thu hai:  2\n",
      "Nhap so thu ba:  3\n",
      "Nhap so thu tu:  4\n",
      "Nhap so thu nam:  5\n"
     ]
    },
    {
     "name": "stdout",
     "output_type": "stream",
     "text": [
      "Tong 5 so vua nhap la:  15\n"
     ]
    }
   ],
   "source": [
    "a = int (input(\"Nhap so thu nhat: \"))\n",
    "b = int (input(\"Nhap so thu hai: \"))\n",
    "c = int (input(\"Nhap so thu ba: \"))\n",
    "d = int (input(\"Nhap so thu tu: \"))\n",
    "e = int (input(\"Nhap so thu nam: \"))\n",
    "tong = a + b + c + d + e\n",
    "print(\"Tong 5 so vua nhap la: \",tong)"
   ]
  },
  {
   "cell_type": "markdown",
   "id": "54075d97-2c51-421a-926e-0af4e3991bea",
   "metadata": {},
   "source": [
    "Bai 2"
   ]
  },
  {
   "cell_type": "code",
   "execution_count": 14,
   "id": "304e1bf6-4e89-4759-8443-f97441b43199",
   "metadata": {},
   "outputs": [
    {
     "name": "stdin",
     "output_type": "stream",
     "text": [
      "Nhap n:  4\n",
      "Nhap so thu 1:  1\n",
      "Nhap so thu 2:  2\n",
      "Nhap so thu 3:  3\n",
      "Nhap so thu 4:  4\n"
     ]
    },
    {
     "name": "stdout",
     "output_type": "stream",
     "text": [
      "Tong cac so vua nhap:  10\n"
     ]
    }
   ],
   "source": [
    "n = int (input(\"Nhap n: \"))\n",
    "tong = 0\n",
    "for i in range (n):\n",
    "    so = int(input(f\"Nhap so thu {i+1}: \"))\n",
    "    if so == 'e' or so == 'E' :\n",
    "        break\n",
    "    else:\n",
    "        tong += so\n",
    "print(\"Tong cac so vua nhap: \", tong)\n"
   ]
  },
  {
   "cell_type": "markdown",
   "id": "77e54c54-5706-4171-8004-72c6f018f826",
   "metadata": {},
   "source": [
    "Bai 3"
   ]
  },
  {
   "cell_type": "code",
   "execution_count": 20,
   "id": "923721d0-35fa-4838-9bd3-9ccf918cad2c",
   "metadata": {},
   "outputs": [
    {
     "name": "stdin",
     "output_type": "stream",
     "text": [
      "Nhap n:  5\n",
      "Nhap so thu 1:  1\n",
      "Nhap so thu 2:  3\n",
      "Nhap so thu 3:  6\n",
      "Nhap so thu 4:  9\n",
      "Nhap so thu 5:  8\n"
     ]
    },
    {
     "name": "stdout",
     "output_type": "stream",
     "text": [
      "Tong cac so vua nhap:  14\n",
      "Cac so chan duong vua nhap:  [6, 8]\n"
     ]
    }
   ],
   "source": [
    "n = int (input(\"Nhap n: \"))\n",
    "tong = 0 \n",
    "\n",
    "so_chan_duong = [] #tạo list sochanduong\n",
    "\n",
    "for i in range (n):\n",
    "    so = int(input(f\"Nhap so thu {i+1}: \"))\n",
    "    if so > 0 and so % 2 ==0 :\n",
    "        tong += so\n",
    "        so_chan_duong.append(so)\n",
    "print(\"Tong cac so vua nhap: \", tong)\n",
    "print(\"Cac so chan duong vua nhap: \", so_chan_duong)"
   ]
  },
  {
   "cell_type": "markdown",
   "id": "825ca30c-9c20-4c51-a75d-3c16fb7f504a",
   "metadata": {},
   "source": [
    "Bai 4"
   ]
  },
  {
   "cell_type": "code",
   "execution_count": 32,
   "id": "94b55816-6e7c-4a95-9f07-c58022bc9a90",
   "metadata": {},
   "outputs": [
    {
     "name": "stdin",
     "output_type": "stream",
     "text": [
      "Nhap n:  7\n"
     ]
    },
    {
     "name": "stdout",
     "output_type": "stream",
     "text": [
      "Tong cac so tu 1 den 7 là:  28\n"
     ]
    }
   ],
   "source": [
    "n = int (input(\"Nhap n: \"))\n",
    "tong = 0 \n",
    "i = 1\n",
    "while i <= n:\n",
    "    tong += i\n",
    "    i = i + 1\n",
    "print(f\"Tong cac so tu 1 den {i-1} là: \", tong)"
   ]
  },
  {
   "cell_type": "markdown",
   "id": "91a323bc-34db-4166-84df-b55d186122e7",
   "metadata": {},
   "source": [
    "Bai 5"
   ]
  },
  {
   "cell_type": "code",
   "execution_count": 34,
   "id": "3c4ef84e-9864-46cb-a164-c1e22452ba8e",
   "metadata": {},
   "outputs": [
    {
     "name": "stdin",
     "output_type": "stream",
     "text": [
      "Nhap so thu nhat:  3\n",
      "Nhap so thu hai:  7\n",
      "Nhap so thu ba:  5\n"
     ]
    },
    {
     "name": "stdout",
     "output_type": "stream",
     "text": [
      "So lon nhat trong 3 so (3, 7, 5) la:  7\n",
      "So be nhat trong 3 so (3, 7, 5) la:  3\n"
     ]
    }
   ],
   "source": [
    "a = int (input(\"Nhap so thu nhat: \"))\n",
    "b = int (input(\"Nhap so thu hai: \"))\n",
    "c = int (input(\"Nhap so thu ba: \"))\n",
    "print(f\"So lon nhat trong 3 so {a, b, c} la: \", max(a, b, c))\n",
    "print(f\"So be nhat trong 3 so {a, b, c} la: \", min(a, b, c))"
   ]
  },
  {
   "cell_type": "markdown",
   "id": "dcbcdfc8-c6d6-47cf-821a-453f193496a2",
   "metadata": {},
   "source": [
    "Bai 6"
   ]
  },
  {
   "cell_type": "code",
   "execution_count": 36,
   "id": "40eb8150-39bb-40e1-9862-390fd3d606b6",
   "metadata": {},
   "outputs": [
    {
     "name": "stdout",
     "output_type": "stream",
     "text": [
      "Tong la:  44\n"
     ]
    }
   ],
   "source": [
    "#Tính tổng các giá trị tại vị trí chẵn nếu giá trị đó là chẵn.\n",
    "ds = [5, 2, 10, 32, 11, 48, 34]  #Vị trí chắn gồm các số: 10, 11, 34\n",
    "tong = 0                         #Giá trị chắn: 10, 34\n",
    "for i in range (len(ds)):\n",
    "    if i%2==0 and ds[i]%2==0:\n",
    "        tong += ds[i]\n",
    "\n",
    "print(\"Tong la: \", tong)\n"
   ]
  },
  {
   "cell_type": "markdown",
   "id": "e28c2f29-33d2-40af-a70a-507587637fd0",
   "metadata": {},
   "source": [
    "Bai 7"
   ]
  },
  {
   "cell_type": "code",
   "execution_count": 64,
   "id": "42e4a8b6-778d-482a-bdc2-f1e23ac229ec",
   "metadata": {},
   "outputs": [
    {
     "name": "stdout",
     "output_type": "stream",
     "text": [
      "Ds ban dau la:  [15, 32, 10, 32, 29, 48, 15]\n",
      "Ds da xoa cac so le:  [32, 10, 32, 48]\n"
     ]
    }
   ],
   "source": [
    "#. Viết chương trình xóa các giá trị lẻ trong danh sách.\n",
    "ds = [15, 32, 10, 32, 29, 48, 15]\n",
    "ds_le = ds.copy()\n",
    "for x in ds_le:\n",
    "    if x%2!=0:\n",
    "        ds_le.remove(x)\n",
    "\n",
    "print(\"Ds ban dau la: \", ds)\n",
    "print(\"Ds da xoa cac so le: \",ds_le)"
   ]
  },
  {
   "cell_type": "markdown",
   "id": "309c20ac-1673-4ecb-9aea-4e97965905c2",
   "metadata": {},
   "source": [
    "Bai 8"
   ]
  },
  {
   "cell_type": "code",
   "execution_count": 7,
   "id": "22492f1c-ff72-4c4f-b2a2-dd1177dc5ce8",
   "metadata": {},
   "outputs": [
    {
     "name": "stdin",
     "output_type": "stream",
     "text": [
      "Nhap chuoi:  110chian\n"
     ]
    },
    {
     "name": "stdout",
     "output_type": "stream",
     "text": [
      "So ky tu, so chu duoc nhap:  8\n"
     ]
    }
   ],
   "source": [
    "# hàm đếm số ký tự, số chữ của một câu được nhập vào từ bàn phím.\n",
    "chuoi = input(\"Nhap chuoi: \")\n",
    "print(\"So ky tu, so chu duoc nhap: \",len(chuoi))"
   ]
  },
  {
   "cell_type": "markdown",
   "id": "b650637c-3e36-48c3-8a6f-621fb0bd588e",
   "metadata": {},
   "source": [
    "Bai 9"
   ]
  },
  {
   "cell_type": "code",
   "execution_count": 43,
   "id": "8b7842f6-b6b3-4512-bb47-adaffc871cf8",
   "metadata": {},
   "outputs": [
    {
     "name": "stdout",
     "output_type": "stream",
     "text": [
      "Chu < Python > co trong chuoi:  Phan tich DL hoc ve Python, Python la 1 NN de, Python tien dung\n",
      "Va xuat hien:  3\n"
     ]
    }
   ],
   "source": [
    "#Ví dụ: Tìm chữ ‘Python’ có trong đoạn văn nào đó, và hiển thị số lần xuất hiện của chữ Python.\n",
    "chuoi = \"Phan tich DL hoc ve Python, Python la 1 NN de, Python tien dung\"\n",
    "x = \"Python\"\n",
    "if x in chuoi:\n",
    "    print(\"Chu <\",  x, \"> co trong chuoi: \", chuoi)\n",
    "    a=chuoi.count(x)\n",
    "    print(\"Va xuat hien: \",a)\n",
    "else:\n",
    "    print(\"Chu \", x, \" khong ton tao trong chuoi: \", chuoi)"
   ]
  },
  {
   "cell_type": "markdown",
   "id": "95ff44b6-83c1-490a-9749-d76b0c079c56",
   "metadata": {},
   "source": [
    "Bai 10"
   ]
  },
  {
   "cell_type": "code",
   "execution_count": 55,
   "id": "7d852db2-ab22-4610-91f0-35db572c8d33",
   "metadata": {},
   "outputs": [
    {
     "name": "stdout",
     "output_type": "stream",
     "text": [
      "Chuoi ban dau:  Phan tich DL can phai co data, data phai duoc lam sach truoc khi nghien cuu\n",
      "Chuoi da duoc thay the: \n"
     ]
    },
    {
     "data": {
      "text/plain": [
       "'Phan tich DL can phai co du lieu, du lieu phai duoc lam sach truoc khi nghien cuu'"
      ]
     },
     "execution_count": 55,
     "metadata": {},
     "output_type": "execute_result"
    }
   ],
   "source": [
    "#Ví dụ: Tìm tất cả các chữ ‘data’ có trong đoạn văn và thay thế bằng chữ ‘dữ liệu’. Sau đó xuất ra chuỗi mới sau khi đã thay thế.\n",
    "chuoi = \"Phan tich DL can phai co data, data phai duoc lam sach truoc khi nghien cuu\"\n",
    "print(\"Chuoi ban dau: \", chuoi)\n",
    "print(\"Chuoi da duoc thay the: \")\n",
    "chuoi.replace(\"data\", \"du lieu\")\n"
   ]
  },
  {
   "cell_type": "markdown",
   "id": "89b129cd-149a-40eb-a6a4-7a1b2d87390b",
   "metadata": {},
   "source": [
    "Bai 12"
   ]
  },
  {
   "cell_type": "code",
   "execution_count": 11,
   "id": "46c5815f-195d-4eaa-837b-18478cd696d3",
   "metadata": {},
   "outputs": [
    {
     "name": "stdout",
     "output_type": "stream",
     "text": [
      "{'y', 'h', 'a', 'n', 'P', 'd', 'e', 'u', 't', ' ', 'l', 'o'}\n"
     ]
    }
   ],
   "source": [
    "#Cho 2 chuỗi bất kỳ. Viết chương trình xuất ra những từ vừa có ở trong chuỗi 1 và chuỗi 2.\n",
    "chuoi1 = set(\"Phan tich du lieu hoc ve Python\")\n",
    "chuoi2 = set(\"Python la 1 ngon ngu de\")\n",
    "a = chuoi1.intersection(chuoi2)\n",
    "print(a)"
   ]
  },
  {
   "cell_type": "markdown",
   "id": "f7f083e2-3071-4ee9-a763-e4f7a65eb632",
   "metadata": {},
   "source": [
    "Bai 13"
   ]
  },
  {
   "cell_type": "code",
   "execution_count": 37,
   "id": "a932c695-7372-4592-9c41-15c67136167a",
   "metadata": {},
   "outputs": [
    {
     "name": "stdout",
     "output_type": "stream",
     "text": [
      "Nam sinh cua sv có STT 1 la:  2000\n",
      "So sinh vien Nam:  1\n",
      "So sinh vien Nu:  2\n",
      "DS sau khi xóa SV co STT 3: \n",
      "{'MSV': 9253, 'Ho va ten': 'Dang Thi Lan Anh', 'Nam sinh': 2000, 'Gioi tinh': 'Nu', 'Dan toc': 'Hoa'}\n",
      "{'MSV': 7034, 'Ho va ten': 'Nguyen Thi Phuong Anh', 'Nam sinh': 2002, 'Gioi tinh': 'Nu', 'Dan toc': 'Kinh'}\n"
     ]
    },
    {
     "ename": "AttributeError",
     "evalue": "'dict' object has no attribute 'append'",
     "output_type": "error",
     "traceback": [
      "\u001b[1;31m---------------------------------------------------------------------------\u001b[0m",
      "\u001b[1;31mAttributeError\u001b[0m                            Traceback (most recent call last)",
      "Cell \u001b[1;32mIn[37], line 27\u001b[0m\n\u001b[0;32m     22\u001b[0m \u001b[38;5;66;03m#Thêm sinh viên sau vào danh sách\u001b[39;00m\n\u001b[0;32m     23\u001b[0m new_SinhVien \u001b[38;5;241m=\u001b[39m {\n\u001b[0;32m     24\u001b[0m     \u001b[38;5;241m4\u001b[39m: {\u001b[38;5;124m\"\u001b[39m\u001b[38;5;124mMSV\u001b[39m\u001b[38;5;124m\"\u001b[39m: \u001b[38;5;241m7503\u001b[39m, \u001b[38;5;124m\"\u001b[39m\u001b[38;5;124mHo va ten\u001b[39m\u001b[38;5;124m\"\u001b[39m: \u001b[38;5;124m\"\u001b[39m\u001b[38;5;124mTran Hai Nam\u001b[39m\u001b[38;5;124m\"\u001b[39m, \u001b[38;5;124m\"\u001b[39m\u001b[38;5;124mNam sinh\u001b[39m\u001b[38;5;124m\"\u001b[39m: \u001b[38;5;241m2000\u001b[39m, \u001b[38;5;124m\"\u001b[39m\u001b[38;5;124mGioi tinh\u001b[39m\u001b[38;5;124m\"\u001b[39m: \u001b[38;5;124m\"\u001b[39m\u001b[38;5;124mNam\u001b[39m\u001b[38;5;124m\"\u001b[39m},\n\u001b[0;32m     25\u001b[0m     \u001b[38;5;241m5\u001b[39m: {\u001b[38;5;124m\"\u001b[39m\u001b[38;5;124mMSV\u001b[39m\u001b[38;5;124m\"\u001b[39m: \u001b[38;5;241m3010\u001b[39m, \u001b[38;5;124m\"\u001b[39m\u001b[38;5;124mHo va ten\u001b[39m\u001b[38;5;124m\"\u001b[39m: \u001b[38;5;124m\"\u001b[39m\u001b[38;5;124mDo Minh Hanh\u001b[39m\u001b[38;5;124m\"\u001b[39m, \u001b[38;5;124m\"\u001b[39m\u001b[38;5;124mNam sinh\u001b[39m\u001b[38;5;124m\"\u001b[39m: \u001b[38;5;241m2002\u001b[39m, \u001b[38;5;124m\"\u001b[39m\u001b[38;5;124mGioi tinh\u001b[39m\u001b[38;5;124m\"\u001b[39m: \u001b[38;5;124m\"\u001b[39m\u001b[38;5;124mNu\u001b[39m\u001b[38;5;124m\"\u001b[39m}\n\u001b[0;32m     26\u001b[0m }\n\u001b[1;32m---> 27\u001b[0m SinhVien\u001b[38;5;241m.\u001b[39mappend(new_SinhVien)\n\u001b[0;32m     28\u001b[0m \u001b[38;5;28mprint\u001b[39m(SinhVien)\n",
      "\u001b[1;31mAttributeError\u001b[0m: 'dict' object has no attribute 'append'"
     ]
    }
   ],
   "source": [
    "SinhVien = {\n",
    "    1: {\"MSV\": 9253, \"Ho va ten\": \"Dang Thi Lan Anh\", \"Nam sinh\": 2000, \"Gioi tinh\": \"Nu\", \"Dan toc\": \"Hoa\"},\n",
    "    2: {\"MSV\": 7034, \"Ho va ten\": \"Nguyen Thi Phuong Anh\", \"Nam sinh\": 2002, \"Gioi tinh\": \"Nu\", \"Dan toc\": \"Kinh\"},\n",
    "    3: {\"MSV\": 6198, \"Ho va ten\": \"Tran Anh Tai\", \"Nam sinh\": 2001, \"Gioi tinh\": \"Nam\", \"Dan toc\": \"Kinh\"},\n",
    "}\n",
    "#Cho biết năm sinh của sinh viên có số thứ tự 1\n",
    "print(\"Nam sinh cua sv có STT 1 la: \",SinhVien[1][\"Nam sinh\"])\n",
    "#Cho biết có bao nhiêu sinh viên nam, sinh viên nữ.\n",
    "sl_nam = 0\n",
    "sl_nu = 0\n",
    "for sv in SinhVien.values():\n",
    "    if sv[\"Gioi tinh\"] == \"Nam\":\n",
    "        sl_nam += 1\n",
    "    else:\n",
    "        sl_nu += 1\n",
    "print(\"So sinh vien Nam: \", sl_nam)\n",
    "print(\"So sinh vien Nu: \", sl_nu)  \n",
    "#Xóa sinh viên có STT 3 ra khỏi danh sách\n",
    "new_sv = SinhVien.copy()\n",
    "del new_sv[3]\n",
    "print(f\"DS sau khi xóa SV co STT 3: \\n{new_sv[1]}\\n{new_sv[2]}\")\n",
    "#Thêm sinh viên sau vào danh sách\n",
    "new_SinhVien = {\n",
    "    4: {\"MSV\": 7503, \"Ho va ten\": \"Tran Hai Nam\", \"Nam sinh\": 2000, \"Gioi tinh\": \"Nam\"},\n",
    "    5: {\"MSV\": 3010, \"Ho va ten\": \"Do Minh Hanh\", \"Nam sinh\": 2002, \"Gioi tinh\": \"Nu\"}\n",
    "}\n",
    "SinhVien.append(new_SinhVien)\n",
    "print(SinhVien)"
   ]
  },
  {
   "cell_type": "code",
   "execution_count": null,
   "id": "8095ce7b-ef8c-4543-8711-1dc41143eabe",
   "metadata": {},
   "outputs": [],
   "source": []
  }
 ],
 "metadata": {
  "kernelspec": {
   "display_name": "Python 3 (ipykernel)",
   "language": "python",
   "name": "python3"
  },
  "language_info": {
   "codemirror_mode": {
    "name": "ipython",
    "version": 3
   },
   "file_extension": ".py",
   "mimetype": "text/x-python",
   "name": "python",
   "nbconvert_exporter": "python",
   "pygments_lexer": "ipython3",
   "version": "3.12.4"
  }
 },
 "nbformat": 4,
 "nbformat_minor": 5
}
